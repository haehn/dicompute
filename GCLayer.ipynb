{
 "cells": [
  {
   "cell_type": "code",
   "execution_count": 1,
   "metadata": {},
   "outputs": [
    {
     "name": "stdout",
     "output_type": "stream",
     "text": [
      "Populating the interactive namespace from numpy and matplotlib\n"
     ]
    }
   ],
   "source": [
    "%pylab inline\n",
    "%load_ext autoreload\n",
    "%autoreload 2"
   ]
  },
  {
   "cell_type": "code",
   "execution_count": 2,
   "metadata": {},
   "outputs": [],
   "source": [
    "import DICOMPUTE as D"
   ]
  },
  {
   "cell_type": "code",
   "execution_count": 3,
   "metadata": {},
   "outputs": [
    {
     "name": "stdout",
     "output_type": "stream",
     "text": [
      "Search completed after 1.1831939220428467 seconds.\n"
     ]
    }
   ],
   "source": [
    "bucket = D.GC.get_bucket('ct-lymph-nodes')"
   ]
  },
  {
   "cell_type": "code",
   "execution_count": 4,
   "metadata": {},
   "outputs": [
    {
     "name": "stdout",
     "output_type": "stream",
     "text": [
      "Getting size completed after 15.376936674118042 seconds.\n",
      "57794974010\n"
     ]
    }
   ],
   "source": [
    "print(D.GC.get_bucket_size(bucket))"
   ]
  },
  {
   "cell_type": "code",
   "execution_count": 5,
   "metadata": {},
   "outputs": [
    {
     "name": "stdout",
     "output_type": "stream",
     "text": [
      "Listing directory completed after 2.9044065475463867 seconds.\n"
     ]
    }
   ],
   "source": [
    "patients = D.GC.lsdir(bucket, 'dicom/')"
   ]
  },
  {
   "cell_type": "code",
   "execution_count": 6,
   "metadata": {},
   "outputs": [
    {
     "data": {
      "text/plain": [
       "(176, 'dicom/61.7.105967400867162609314453228373157076986/')"
      ]
     },
     "execution_count": 6,
     "metadata": {},
     "output_type": "execute_result"
    }
   ],
   "source": [
    "len(patients), patients[0]"
   ]
  },
  {
   "cell_type": "code",
   "execution_count": 7,
   "metadata": {},
   "outputs": [
    {
     "name": "stdout",
     "output_type": "stream",
     "text": [
      "Listing directory completed after 1.0783774852752686 seconds.\n"
     ]
    }
   ],
   "source": [
    "studies = D.GC.lsdir(bucket, patients[0])"
   ]
  },
  {
   "cell_type": "code",
   "execution_count": 8,
   "metadata": {},
   "outputs": [
    {
     "data": {
      "text/plain": [
       "(1,\n",
       " 'dicom/61.7.105967400867162609314453228373157076986/61.7.38071144823859627442232171544334024342/')"
      ]
     },
     "execution_count": 8,
     "metadata": {},
     "output_type": "execute_result"
    }
   ],
   "source": [
    "len(studies), studies[0]"
   ]
  },
  {
   "cell_type": "code",
   "execution_count": 9,
   "metadata": {},
   "outputs": [
    {
     "name": "stdout",
     "output_type": "stream",
     "text": [
      "Connected after 0.9862706661224365 seconds.\n",
      "Download completed after 116.40731501579285 seconds.\n"
     ]
    }
   ],
   "source": [
    "images = D.GC.download(bucket, studies[0], outdir='/mnt/data/ct-lymph-nodes/')"
   ]
  },
  {
   "cell_type": "code",
   "execution_count": 11,
   "metadata": {},
   "outputs": [
    {
     "data": {
      "text/plain": [
       "'/mnt/data/ct-lymph-nodes/dicom/61.7.105967400867162609314453228373157076986/61.7.38071144823859627442232171544334024342/61.7.100002236990844775420095491752697181362.dcm'"
      ]
     },
     "execution_count": 11,
     "metadata": {},
     "output_type": "execute_result"
    }
   ],
   "source": [
    "images[0]"
   ]
  },
  {
   "cell_type": "code",
   "execution_count": null,
   "metadata": {},
   "outputs": [],
   "source": [
    "# next steps:\n",
    "# convert to nii\n",
    "# then\n",
    "# user 3DSIFT\n"
   ]
  },
  {
   "cell_type": "code",
   "execution_count": 13,
   "metadata": {},
   "outputs": [],
   "source": [
    "import os,time"
   ]
  },
  {
   "cell_type": "code",
   "execution_count": 58,
   "metadata": {},
   "outputs": [
    {
     "name": "stdout",
     "output_type": "stream",
     "text": [
      "done after 0.8322083950042725\n"
     ]
    }
   ],
   "source": [
    "#\n",
    "# dcm2niix\n",
    "#\n",
    "t0 = time.time()\n",
    "dcm_dir = os.path.dirname(images[0])\n",
    "nii_dir = dcm_dir.replace('dicom', 'nii')\n",
    "nii_file = os.path.basename(dcm_dir)\n",
    "nii_dir = os.path.dirname(nii_dir)\n",
    "os.makedirs(nii_dir, exist_ok=True)\n",
    "cmd = 'dcm2niix -f ' + nii_file + ' -o '+ nii_dir + ' ' + dcm_dir + '/*.dcm'\n",
    "stdout = os.popen(cmd).read()\n",
    "print ('done after', time.time()-t0)"
   ]
  },
  {
   "cell_type": "code",
   "execution_count": null,
   "metadata": {},
   "outputs": [],
   "source": [
    "import dicom2nifti"
   ]
  },
  {
   "cell_type": "code",
   "execution_count": 59,
   "metadata": {},
   "outputs": [
    {
     "name": "stdout",
     "output_type": "stream",
     "text": [
      "done after 11.59675669670105\n"
     ]
    }
   ],
   "source": [
    "#\n",
    "# dicom2nifti\n",
    "#\n",
    "t0 = time.time()\n",
    "dcm_dir = os.path.dirname(images[0])\n",
    "nii_dir = dcm_dir.replace('dicom', 'nii')\n",
    "nii_file = nii_dir + '.dicom2nifti.nii'\n",
    "os.makedirs(nii_dir, exist_ok=True)\n",
    "\n",
    "dicom2nifti.dicom_series_to_nifti(dcm_dir, nii_file, reorient_nifti=True)\n",
    "\n",
    "print ('done after', time.time()-t0)"
   ]
  },
  {
   "cell_type": "code",
   "execution_count": 62,
   "metadata": {},
   "outputs": [
    {
     "name": "stdout",
     "output_type": "stream",
     "text": [
      "done after 12.212537050247192\n"
     ]
    }
   ],
   "source": [
    "#\n",
    "# dicom2nifti CLI\n",
    "#\n",
    "t0 = time.time()\n",
    "dcm_dir = os.path.dirname(images[0])\n",
    "nii_dir = dcm_dir.replace('dicom', 'nii')\n",
    "nii_file = os.path.basename(dcm_dir)\n",
    "nii_dir = os.path.dirname(nii_dir)\n",
    "os.makedirs(nii_dir, exist_ok=True)\n",
    "cmd = 'dicom2nifti --no-compression ' + dcm_dir + ' ' + nii_dir\n",
    "stdout = os.popen(cmd).read()\n",
    "print ('done after', time.time()-t0)"
   ]
  },
  {
   "cell_type": "code",
   "execution_count": null,
   "metadata": {},
   "outputs": [],
   "source": []
  }
 ],
 "metadata": {
  "kernelspec": {
   "display_name": "Python 3",
   "language": "python",
   "name": "python3"
  },
  "language_info": {
   "codemirror_mode": {
    "name": "ipython",
    "version": 3
   },
   "file_extension": ".py",
   "mimetype": "text/x-python",
   "name": "python",
   "nbconvert_exporter": "python",
   "pygments_lexer": "ipython3",
   "version": "3.8.2"
  }
 },
 "nbformat": 4,
 "nbformat_minor": 4
}
