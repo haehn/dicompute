{
 "cells": [
  {
   "cell_type": "code",
   "execution_count": 4,
   "metadata": {},
   "outputs": [],
   "source": [
    "# note: we need to be authenticated via `gcloud auth login`\n",
    "PROJECT = 'idc-lnq-000'"
   ]
  },
  {
   "cell_type": "markdown",
   "metadata": {},
   "source": [
    "# CLI access"
   ]
  },
  {
   "cell_type": "code",
   "execution_count": 3,
   "metadata": {},
   "outputs": [],
   "source": [
    "import os, time"
   ]
  },
  {
   "cell_type": "code",
   "execution_count": 3,
   "metadata": {},
   "outputs": [
    {
     "name": "stdout",
     "output_type": "stream",
     "text": [
      "2.699720859527588 seconds\n"
     ]
    }
   ],
   "source": [
    "t0 = time.time()\n",
    "datasets = os.popen('gcloud beta healthcare datasets list --project chc-tcia').read().split()[3::3]\n",
    "print(time.time() - t0, 'seconds')"
   ]
  },
  {
   "cell_type": "code",
   "execution_count": 4,
   "metadata": {},
   "outputs": [
    {
     "name": "stdout",
     "output_type": "stream",
     "text": [
      "4d-lung 183043903814\n",
      "90.05417990684509 seconds\n"
     ]
    }
   ],
   "source": [
    "t0 = time.time()\n",
    "for d in datasets[0:1]:\n",
    "    size = os.popen('gsutil -u '+PROJECT+' du -s gs://gcs-public-data--healthcare-tcia-'+d).read().split()[0]\n",
    "    print(d, size)\n",
    "# note: takes a long time\n",
    "print(time.time() - t0, 'seconds')"
   ]
  },
  {
   "cell_type": "code",
   "execution_count": null,
   "metadata": {},
   "outputs": [],
   "source": []
  },
  {
   "cell_type": "markdown",
   "metadata": {},
   "source": [
    "# Python access"
   ]
  },
  {
   "cell_type": "code",
   "execution_count": 1,
   "metadata": {},
   "outputs": [],
   "source": [
    "import time\n",
    "from google.cloud import storage\n",
    "import google.oauth2.credentials"
   ]
  },
  {
   "cell_type": "code",
   "execution_count": 5,
   "metadata": {},
   "outputs": [],
   "source": [
    "token = os.popen('gcloud auth print-access-token').read().strip('\\n') # TODO: better way?\n",
    "credentials = google.oauth2.credentials.Credentials(token)"
   ]
  },
  {
   "cell_type": "code",
   "execution_count": 6,
   "metadata": {},
   "outputs": [],
   "source": [
    "c = storage.Client(project='chc-tcia', credentials=credentials)"
   ]
  },
  {
   "cell_type": "code",
   "execution_count": 7,
   "metadata": {},
   "outputs": [
    {
     "name": "stdout",
     "output_type": "stream",
     "text": [
      "0.00016164779663085938 seconds\n"
     ]
    }
   ],
   "source": [
    "t0 = time.time()\n",
    "datasets = c.list_buckets()\n",
    "print(time.time() - t0, 'seconds')"
   ]
  },
  {
   "cell_type": "code",
   "execution_count": 9,
   "metadata": {},
   "outputs": [
    {
     "name": "stdout",
     "output_type": "stream",
     "text": [
      "<Bucket: gcs-public-data--healthcare-tcia-4d-lung> 183043903814\n",
      "44.924907207489014 seconds\n"
     ]
    }
   ],
   "source": [
    "# getting dataset size\n",
    "t0 = time.time()\n",
    "for d in list(datasets)[0:1]:\n",
    "    bucket = c.bucket(d.name, user_project=PROJECT)\n",
    "    size = 0\n",
    "    for b in bucket.list_blobs():\n",
    "        size += b.size\n",
    "    print(d, size)\n",
    "print(time.time() - t0, 'seconds')"
   ]
  },
  {
   "cell_type": "markdown",
   "metadata": {},
   "source": [
    "## Now for the ct-lumph-nodes"
   ]
  },
  {
   "cell_type": "code",
   "execution_count": 9,
   "metadata": {},
   "outputs": [
    {
     "name": "stdout",
     "output_type": "stream",
     "text": [
      "0.24587154388427734 seconds\n"
     ]
    }
   ],
   "source": [
    "search = 'ct-lymph-nodes'\n",
    "\n",
    "t0 = time.time()\n",
    "datasets = c.list_buckets()\n",
    "for d in list(datasets):\n",
    "    if search in d.name:\n",
    "        selected_dataset = d.name\n",
    "        break\n",
    "print(time.time() - t0, 'seconds')"
   ]
  },
  {
   "cell_type": "code",
   "execution_count": 11,
   "metadata": {},
   "outputs": [],
   "source": [
    "bucket = c.bucket(selected_dataset, user_project=PROJECT)"
   ]
  },
  {
   "cell_type": "code",
   "execution_count": 12,
   "metadata": {},
   "outputs": [
    {
     "name": "stdout",
     "output_type": "stream",
     "text": [
      "127.93318319320679 seconds\n"
     ]
    }
   ],
   "source": [
    "# parsing the folder structure\n",
    "t0 = time.time()\n",
    "folders = []\n",
    "for b in bucket.list_blobs():\n",
    "    f_split = b.name.split('/')\n",
    "    for i,f in enumerate(f_split):\n",
    "        \n",
    "        if len(folders) <= i:\n",
    "            folders.append([])\n",
    "            \n",
    "        if not f in folders[i]:\n",
    "            folders[i].append(f)\n",
    "print(time.time() - t0, 'seconds')"
   ]
  },
  {
   "cell_type": "code",
   "execution_count": 22,
   "metadata": {},
   "outputs": [],
   "source": [
    "studies = folders[1]\n",
    "series = folders[2]\n",
    "images = folders[3]"
   ]
  },
  {
   "cell_type": "code",
   "execution_count": null,
   "metadata": {},
   "outputs": [],
   "source": []
  }
 ],
 "metadata": {
  "kernelspec": {
   "display_name": "Python 3",
   "language": "python",
   "name": "python3"
  },
  "language_info": {
   "codemirror_mode": {
    "name": "ipython",
    "version": 3
   },
   "file_extension": ".py",
   "mimetype": "text/x-python",
   "name": "python",
   "nbconvert_exporter": "python",
   "pygments_lexer": "ipython3",
   "version": "3.8.2"
  }
 },
 "nbformat": 4,
 "nbformat_minor": 4
}
