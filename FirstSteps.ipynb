{
 "cells": [
  {
   "cell_type": "code",
   "execution_count": 4,
   "metadata": {},
   "outputs": [],
   "source": [
    "# note: we need to be authenticated via `gcloud auth login`\n",
    "PROJECT = 'idc-lnq-000'"
   ]
  },
  {
   "cell_type": "markdown",
   "metadata": {},
   "source": [
    "# CLI access"
   ]
  },
  {
   "cell_type": "code",
   "execution_count": 3,
   "metadata": {},
   "outputs": [],
   "source": [
    "import os, time"
   ]
  },
  {
   "cell_type": "code",
   "execution_count": 3,
   "metadata": {},
   "outputs": [
    {
     "name": "stdout",
     "output_type": "stream",
     "text": [
      "2.699720859527588 seconds\n"
     ]
    }
   ],
   "source": [
    "t0 = time.time()\n",
    "datasets = os.popen('gcloud beta healthcare datasets list --project chc-tcia').read().split()[3::3]\n",
    "print(time.time() - t0, 'seconds')"
   ]
  },
  {
   "cell_type": "code",
   "execution_count": 4,
   "metadata": {},
   "outputs": [
    {
     "name": "stdout",
     "output_type": "stream",
     "text": [
      "4d-lung 183043903814\n",
      "90.05417990684509 seconds\n"
     ]
    }
   ],
   "source": [
    "t0 = time.time()\n",
    "for d in datasets[0:1]:\n",
    "    size = os.popen('gsutil -u '+PROJECT+' du -s gs://gcs-public-data--healthcare-tcia-'+d).read().split()[0]\n",
    "    print(d, size)\n",
    "# note: takes a long time\n",
    "print(time.time() - t0, 'seconds')"
   ]
  },
  {
   "cell_type": "code",
   "execution_count": null,
   "metadata": {},
   "outputs": [],
   "source": []
  },
  {
   "cell_type": "markdown",
   "metadata": {},
   "source": [
    "# Python access"
   ]
  },
  {
   "cell_type": "code",
   "execution_count": 1,
   "metadata": {},
   "outputs": [],
   "source": [
    "import time\n",
    "from google.cloud import storage\n",
    "import google.oauth2.credentials"
   ]
  },
  {
   "cell_type": "code",
   "execution_count": 32,
   "metadata": {},
   "outputs": [],
   "source": [
    "token = os.popen('gcloud auth print-access-token').read().strip('\\n') # TODO: better way?\n",
    "credentials = google.oauth2.credentials.Credentials(token)"
   ]
  },
  {
   "cell_type": "code",
   "execution_count": 33,
   "metadata": {},
   "outputs": [],
   "source": [
    "c = storage.Client(project='chc-tcia', credentials=credentials)"
   ]
  },
  {
   "cell_type": "code",
   "execution_count": 34,
   "metadata": {},
   "outputs": [
    {
     "name": "stdout",
     "output_type": "stream",
     "text": [
      "0.00016188621520996094 seconds\n"
     ]
    }
   ],
   "source": [
    "t0 = time.time()\n",
    "datasets = c.list_buckets()\n",
    "print(time.time() - t0, 'seconds')"
   ]
  },
  {
   "cell_type": "code",
   "execution_count": 9,
   "metadata": {},
   "outputs": [
    {
     "name": "stdout",
     "output_type": "stream",
     "text": [
      "<Bucket: gcs-public-data--healthcare-tcia-4d-lung> 183043903814\n",
      "44.924907207489014 seconds\n"
     ]
    }
   ],
   "source": [
    "# getting dataset size\n",
    "t0 = time.time()\n",
    "for d in list(datasets)[0:1]:\n",
    "    bucket = c.bucket(d.name, user_project=PROJECT)\n",
    "    size = 0\n",
    "    for b in bucket.list_blobs():\n",
    "        size += b.size\n",
    "    print(d, size)\n",
    "print(time.time() - t0, 'seconds')"
   ]
  },
  {
   "cell_type": "markdown",
   "metadata": {},
   "source": [
    "## Now for the ct-lumph-nodes"
   ]
  },
  {
   "cell_type": "code",
   "execution_count": 35,
   "metadata": {},
   "outputs": [
    {
     "name": "stdout",
     "output_type": "stream",
     "text": [
      "0.2256476879119873 seconds\n"
     ]
    }
   ],
   "source": [
    "search = 'ct-lymph-nodes'\n",
    "\n",
    "t0 = time.time()\n",
    "datasets = c.list_buckets()\n",
    "for d in list(datasets):\n",
    "    if search in d.name:\n",
    "        selected_dataset = d.name\n",
    "        break\n",
    "print(time.time() - t0, 'seconds')"
   ]
  },
  {
   "cell_type": "code",
   "execution_count": 36,
   "metadata": {},
   "outputs": [],
   "source": [
    "bucket = c.bucket(selected_dataset, user_project=PROJECT)"
   ]
  },
  {
   "cell_type": "code",
   "execution_count": 12,
   "metadata": {},
   "outputs": [
    {
     "name": "stdout",
     "output_type": "stream",
     "text": [
      "127.93318319320679 seconds\n"
     ]
    }
   ],
   "source": [
    "# parsing the folder structure\n",
    "t0 = time.time()\n",
    "folders = []\n",
    "for b in bucket.list_blobs():\n",
    "    f_split = b.name.split('/')\n",
    "    for i,f in enumerate(f_split):\n",
    "        \n",
    "        if len(folders) <= i:\n",
    "            folders.append([])\n",
    "            \n",
    "        if not f in folders[i]:\n",
    "            folders[i].append(f)\n",
    "print(time.time() - t0, 'seconds')"
   ]
  },
  {
   "cell_type": "code",
   "execution_count": 22,
   "metadata": {},
   "outputs": [],
   "source": [
    "studies = folders[1]\n",
    "series = folders[2]\n",
    "images = folders[3]"
   ]
  },
  {
   "cell_type": "code",
   "execution_count": 37,
   "metadata": {},
   "outputs": [
    {
     "data": {
      "text/plain": [
       "<Blob: gcs-public-data--healthcare-tcia-ct-lymph-nodes, dicom/61.7.99637024410815362534709947562712202035/61.7.161580241154366015366471722739845851315/61.7.99825910240087036989126920986284228754.dcm, 1541432897598168>"
      ]
     },
     "execution_count": 37,
     "metadata": {},
     "output_type": "execute_result"
    }
   ],
   "source": [
    "bucket.get_blob(b.name)"
   ]
  },
  {
   "cell_type": "code",
   "execution_count": 38,
   "metadata": {},
   "outputs": [
    {
     "data": {
      "text/plain": [
       "'dicom/61.7.99637024410815362534709947562712202035/61.7.161580241154366015366471722739845851315/61.7.99825910240087036989126920986284228754.dcm'"
      ]
     },
     "execution_count": 38,
     "metadata": {},
     "output_type": "execute_result"
    }
   ],
   "source": [
    "b.name"
   ]
  },
  {
   "cell_type": "code",
   "execution_count": 58,
   "metadata": {},
   "outputs": [
    {
     "name": "stdout",
     "output_type": "stream",
     "text": [
      "0\n"
     ]
    }
   ],
   "source": [
    "# all patients\n",
    "series = 'dicom'\n",
    "# patients = list(c.list_blobs(bucket, prefix=series, delimiter='.', max_results=10))\n",
    "patients = list(c.list_blobs(bucket, delimiter='/', prefix='dicom/'))\n",
    "print(len(patients))"
   ]
  },
  {
   "cell_type": "code",
   "execution_count": 59,
   "metadata": {},
   "outputs": [],
   "source": [
    "patients = list(bucket.list_blobs(delimiter='/', prefix='dicom/'))\n"
   ]
  },
  {
   "cell_type": "code",
   "execution_count": 42,
   "metadata": {},
   "outputs": [
    {
     "name": "stdout",
     "output_type": "stream",
     "text": [
      "481\n"
     ]
    }
   ],
   "source": [
    "# for one series\n",
    "series = 'dicom/61.7.99637024410815362534709947562712202035/61.7.161580241154366015366471722739845851315/'\n",
    "dcm_files = list(c.list_blobs(bucket, prefix=series))\n",
    "print(len(dcm_files))"
   ]
  },
  {
   "cell_type": "code",
   "execution_count": 60,
   "metadata": {},
   "outputs": [
    {
     "data": {
      "text/plain": [
       "[]"
      ]
     },
     "execution_count": 60,
     "metadata": {},
     "output_type": "execute_result"
    }
   ],
   "source": [
    "patients"
   ]
  },
  {
   "cell_type": "code",
   "execution_count": 77,
   "metadata": {},
   "outputs": [],
   "source": [
    "def list_gcs_directories(client, bucket, prefix):\n",
    "    # from https://github.com/GoogleCloudPlatform/google-cloud-python/issues/920\n",
    "    iterator = client.list_blobs(bucket, prefix=prefix, delimiter='/')\n",
    "    prefixes = set()\n",
    "    for page in iterator.pages:\n",
    "        print (page, page.prefixes)\n",
    "        prefixes.update(page.prefixes)\n",
    "    return prefixes"
   ]
  },
  {
   "cell_type": "code",
   "execution_count": 78,
   "metadata": {},
   "outputs": [
    {
     "name": "stdout",
     "output_type": "stream",
     "text": [
      "<google.api_core.page_iterator.Page object at 0x7f161d86b6d0> ('dicom/61.7.102432584850582937613178565576727689438/', 'dicom/61.7.105477223282770249469045163366732744/', 'dicom/61.7.105967400867162609314453228373157076986/', 'dicom/61.7.106011913688873777967000368671613390694/', 'dicom/61.7.107323046883622997879712834941050736137/', 'dicom/61.7.107540433741703919518178117087316678228/', 'dicom/61.7.10809797054679529895122499097380370346/', 'dicom/61.7.109447583610681779128956367905974506260/', 'dicom/61.7.110976287009623783394893059131426578073/', 'dicom/61.7.112455531449190186311063143321694682940/', 'dicom/61.7.112606669699517023270746509553658743064/', 'dicom/61.7.116380062505676653966776255222512862129/', 'dicom/61.7.124675672310454047764468995145122534963/', 'dicom/61.7.126744359095913243515016888555680300804/', 'dicom/61.7.127749764394941233488146681623888696805/', 'dicom/61.7.128876040172251404065414822554792863476/', 'dicom/61.7.129139773030273642478494681211592832851/', 'dicom/61.7.129467917587121989345534289513534719144/', 'dicom/61.7.129677433427421429709946500643112039463/', 'dicom/61.7.131482925035100221885440159558215442010/', 'dicom/61.7.131659346977116589361811206097707916157/', 'dicom/61.7.132633651985091577773125743369316426514/', 'dicom/61.7.136214393786395271705339089884945268807/', 'dicom/61.7.138664277655603444347439096427263039736/', 'dicom/61.7.144763186646452233052498085907989786139/', 'dicom/61.7.148454106197187115211205190439133070482/', 'dicom/61.7.149009310196866941444185777099208597752/', 'dicom/61.7.151490774433204693128365458987894193047/', 'dicom/61.7.152006239796277304303146375279521259939/', 'dicom/61.7.153281069320653076291058756736675514114/', 'dicom/61.7.156961664235806888133374668205642908667/', 'dicom/61.7.157160314800680875155401892909837267942/', 'dicom/61.7.158507793998376083128808226544498771058/', 'dicom/61.7.159014952415393999487430935834925944897/', 'dicom/61.7.159815496334366860940412275940314674575/', 'dicom/61.7.160174473281449046942390306652215556977/', 'dicom/61.7.160645862587636003712130837358318429211/', 'dicom/61.7.163190206885221390870158677274913521538/', 'dicom/61.7.165328987744583659348181440969631975904/', 'dicom/61.7.165800559940032543460587943461370203182/', 'dicom/61.7.166403347931612451842743778959575182445/', 'dicom/61.7.16696577424916270302056993837915043951/', 'dicom/61.7.169215330200681831358833971143856658793/', 'dicom/61.7.170015646454252583005583837556093891848/', 'dicom/61.7.17098674052913625188536227339426309706/', 'dicom/61.7.171056696715009365889495926438823106993/', 'dicom/61.7.172066327064917168997199390748496462893/', 'dicom/61.7.172110506794157063949426504131899531202/', 'dicom/61.7.178677138636083578549533547521578995581/', 'dicom/61.7.18041828592515124676572666328234939976/', 'dicom/61.7.180810060686812969680644383032885668212/', 'dicom/61.7.183450482658356339588605663407444278996/', 'dicom/61.7.186005714262293075603372876652955317608/', 'dicom/61.7.186150680759207515465616855509993541745/', 'dicom/61.7.190123064084433498290398664719422860818/', 'dicom/61.7.191201152470787214233040976990617395788/', 'dicom/61.7.191818178174675706356609862122234492714/', 'dicom/61.7.193211162738109049004725791548466029309/', 'dicom/61.7.193436082349897077848311009872017441681/', 'dicom/61.7.195576172415474842248148869621149383498/', 'dicom/61.7.195807859711115097119620058032269036831/', 'dicom/61.7.195884195373586320353563516404783948625/', 'dicom/61.7.199893800107359751380198079275016699460/', 'dicom/61.7.200220339504383078914804615756338194012/', 'dicom/61.7.200519634327513376136193832023956934431/', 'dicom/61.7.202051774956512906697308470244923263960/', 'dicom/61.7.20233453655393643051726617928721628145/', 'dicom/61.7.202351545986511683503477940273469007070/', 'dicom/61.7.206207389940744266672488305576360183433/', 'dicom/61.7.206516255576311509292409996254961077399/', 'dicom/61.7.216799986867713281316232153758528742493/', 'dicom/61.7.217816418644600269140992178319817528035/', 'dicom/61.7.218302240407210988769189208019012615914/', 'dicom/61.7.218580239933551410328769884230107297380/', 'dicom/61.7.21951753007956806951356044993463016801/', 'dicom/61.7.219665827073622418000902319748617882908/', 'dicom/61.7.221750108569620686239821291747207545980/', 'dicom/61.7.222847024259672378752616047760861583233/', 'dicom/61.7.22285965616260355338860879829667630274/', 'dicom/61.7.223125218160165127390056864774362688092/', 'dicom/61.7.224551580232968831981674745224993612991/', 'dicom/61.7.22579440236305000827852833726801568012/', 'dicom/61.7.226739062257303419405897686384158488490/', 'dicom/61.7.228075113460609040083946838006913808259/', 'dicom/61.7.228288623383162751009862962755234754164/', 'dicom/61.7.229329775438591766963033757110936255260/', 'dicom/61.7.230111780281921857421233782724452269798/', 'dicom/61.7.230718804623044058151056665714734523937/', 'dicom/61.7.23422914945048739871029325329301240160/', 'dicom/61.7.236072223731025491432603327345961315994/', 'dicom/61.7.236305532588019610072626572710962340170/', 'dicom/61.7.236883063549409620910834703854391487881/', 'dicom/61.7.237679220534920691502769282607039669534/', 'dicom/61.7.245010697282714750079690618388863421446/', 'dicom/61.7.246212195477620752905090577956059096111/', 'dicom/61.7.250477286833923333117290841606057097156/', 'dicom/61.7.259386706536771893715258616429601211215/', 'dicom/61.7.260400308988732966969120129030633319458/', 'dicom/61.7.264072849099038014247078649439956069458/', 'dicom/61.7.264135905038510509012558740963859963074/', 'dicom/61.7.266173048935569433802381383136585053826/', 'dicom/61.7.266672936176079352269059909126554610990/', 'dicom/61.7.267873646328970374394006298319963987879/')\n",
      "<google.api_core.page_iterator.Page object at 0x7f161d86b5b0> ('dicom/61.7.268394637588031297898846873298459800625/', 'dicom/61.7.268924603540904764514824843921219556470/', 'dicom/61.7.269302601177927385711338092726468287820/', 'dicom/61.7.270238959664583730277352790928361357990/', 'dicom/61.7.270340169484842009484938839203901615983/', 'dicom/61.7.276186995443132562163463641799779941762/', 'dicom/61.7.27882698591755458810289506106138341571/', 'dicom/61.7.279937642951816303729575427350375565733/', 'dicom/61.7.280219481786464538989746238170602100870/', 'dicom/61.7.280655946894172429784728226992976023531/', 'dicom/61.7.287069916316152291026868038166832816916/', 'dicom/61.7.287199799754808317390959710067012670301/', 'dicom/61.7.288277073011911426091848605702685442763/', 'dicom/61.7.288637990894837847184483871760369038314/', 'dicom/61.7.292555536848289835468818785419156801254/', 'dicom/61.7.293680481359715670539998870018061290939/', 'dicom/61.7.295975839997684904088586004073697120001/', 'dicom/61.7.296573678301070527712969432769990145872/', 'dicom/61.7.297779127846776914155305709931446386257/', 'dicom/61.7.298467669099384273817673911199146367136/', 'dicom/61.7.299870224771929740106600564115474195904/', 'dicom/61.7.310058150941655902813894518477154673975/', 'dicom/61.7.312794553587742179870043242716609832415/', 'dicom/61.7.314156201918705233913055221423190683049/', 'dicom/61.7.314273923672521304689248848463815345707/', 'dicom/61.7.315010590980515513046876647202587462948/', 'dicom/61.7.315080345490329890733488073914416851917/', 'dicom/61.7.320693357301701526548124663454478561657/', 'dicom/61.7.324182321890070711702712678977716040168/', 'dicom/61.7.326036326246674117441683891827861539052/', 'dicom/61.7.327979660739276187516087488740064339264/', 'dicom/61.7.328592466789993180708701019847645261846/', 'dicom/61.7.328604461581494993614282285730947710400/', 'dicom/61.7.330653613294050075260197505651546603381/', 'dicom/61.7.33170033166033847034550575108110212317/', 'dicom/61.7.334670351804602756529841955693976617194/', 'dicom/61.7.337701456568616636283771003219143710707/', 'dicom/61.7.337908915159928673561452486724759317809/', 'dicom/61.7.34300079045046113097978031147426733189/', 'dicom/61.7.36092554854509050178494491404851750612/', 'dicom/61.7.3964474634612246490213118140235229640/', 'dicom/61.7.39918206352785789418203411523407744349/', 'dicom/61.7.41334778197592315899776702214298731468/', 'dicom/61.7.42466459620335262402460941751336210211/', 'dicom/61.7.44223391659327584587230571348905744139/', 'dicom/61.7.4614721973933394487739198448489366125/', 'dicom/61.7.48144493342957903230699305207585399164/', 'dicom/61.7.48222567071659380632207368763296963189/', 'dicom/61.7.50233283419664787993885946028010215414/', 'dicom/61.7.53799058269301729614277816851398178789/', 'dicom/61.7.55290964670395004243942663674710038962/', 'dicom/61.7.56213330934120964572589821822022685186/', 'dicom/61.7.59532081813676108098476009854164991593/', 'dicom/61.7.64055430612938785204927273132672976612/', 'dicom/61.7.64622453802855570313409191254373366782/', 'dicom/61.7.65911302532815990240938030085777393537/', 'dicom/61.7.66776647860665099523419542409276487652/', 'dicom/61.7.68470405242531181255316421441775016472/', 'dicom/61.7.70203165249619335292307079145274897307/', 'dicom/61.7.70776346088495382764344788541333935503/', 'dicom/61.7.74364044416498133577396571305039313670/', 'dicom/61.7.75804546709586489027230621324719729481/', 'dicom/61.7.76982089953486564547861086677800868316/', 'dicom/61.7.81861619691444093639081471464450061411/', 'dicom/61.7.82155267267879319036177999375711936040/', 'dicom/61.7.82274660831845815651285301905965015269/', 'dicom/61.7.86102296925162445642172588538861100728/', 'dicom/61.7.90334852648223581974136733778660601613/', 'dicom/61.7.93273854116647800470730671671118421206/', 'dicom/61.7.95893236182120878885836444223374920908/', 'dicom/61.7.96474074075208252309672435589685598510/', 'dicom/61.7.98054806573138449828114473623592850041/', 'dicom/61.7.99637024410815362534709947562712202035/')\n"
     ]
    }
   ],
   "source": [
    "a = list_gcs_directories(c, bucket, 'dicom/')"
   ]
  },
  {
   "cell_type": "code",
   "execution_count": 79,
   "metadata": {},
   "outputs": [
    {
     "data": {
      "text/plain": [
       "176"
      ]
     },
     "execution_count": 79,
     "metadata": {},
     "output_type": "execute_result"
    }
   ],
   "source": [
    "len(a)"
   ]
  },
  {
   "cell_type": "code",
   "execution_count": 81,
   "metadata": {},
   "outputs": [
    {
     "data": {
      "text/plain": [
       "'dicom/61.7.27882698591755458810289506106138341571/'"
      ]
     },
     "execution_count": 81,
     "metadata": {},
     "output_type": "execute_result"
    }
   ],
   "source": [
    "list(a)[0]"
   ]
  },
  {
   "cell_type": "code",
   "execution_count": 82,
   "metadata": {},
   "outputs": [
    {
     "name": "stdout",
     "output_type": "stream",
     "text": [
      "<google.api_core.page_iterator.Page object at 0x7f15fba08c40> ('dicom/61.7.27882698591755458810289506106138341571/61.7.140850485026854845569976770842695917955/',)\n"
     ]
    }
   ],
   "source": [
    "a = list_gcs_directories(c, bucket, list(a)[0])"
   ]
  },
  {
   "cell_type": "code",
   "execution_count": 87,
   "metadata": {},
   "outputs": [],
   "source": [
    "p = list(a)[0]"
   ]
  },
  {
   "cell_type": "code",
   "execution_count": 90,
   "metadata": {},
   "outputs": [
    {
     "name": "stdout",
     "output_type": "stream",
     "text": [
      "656\n"
     ]
    }
   ],
   "source": [
    "dcm_files = list(c.list_blobs(bucket, prefix=p))\n",
    "print(len(dcm_files))"
   ]
  },
  {
   "cell_type": "code",
   "execution_count": 89,
   "metadata": {},
   "outputs": [
    {
     "data": {
      "text/plain": [
       "0"
      ]
     },
     "execution_count": 89,
     "metadata": {},
     "output_type": "execute_result"
    }
   ],
   "source": [
    "len(dicoms)"
   ]
  },
  {
   "cell_type": "code",
   "execution_count": 92,
   "metadata": {},
   "outputs": [],
   "source": [
    "bb = dcm_files[0]"
   ]
  },
  {
   "cell_type": "code",
   "execution_count": 94,
   "metadata": {},
   "outputs": [
    {
     "ename": "RefreshError",
     "evalue": "The credentials do not contain the necessary fields need to refresh the access token. You must specify refresh_token, token_uri, client_id, and client_secret.",
     "output_type": "error",
     "traceback": [
      "\u001b[0;31m---------------------------------------------------------------------------\u001b[0m",
      "\u001b[0;31mRefreshError\u001b[0m                              Traceback (most recent call last)",
      "\u001b[0;32m<ipython-input-94-e2f35fc1a611>\u001b[0m in \u001b[0;36m<module>\u001b[0;34m\u001b[0m\n\u001b[0;32m----> 1\u001b[0;31m \u001b[0mbb\u001b[0m\u001b[0;34m.\u001b[0m\u001b[0mdownload_to_file\u001b[0m\u001b[0;34m(\u001b[0m\u001b[0;34m'/tmp/a.dcm'\u001b[0m\u001b[0;34m)\u001b[0m\u001b[0;34m\u001b[0m\u001b[0;34m\u001b[0m\u001b[0m\n\u001b[0m",
      "\u001b[0;32m~/miniconda3/envs/DCM/lib/python3.8/site-packages/google/cloud/storage/blob.py\u001b[0m in \u001b[0;36mdownload_to_file\u001b[0;34m(self, file_obj, client, start, end, raw_download)\u001b[0m\n\u001b[1;32m    801\u001b[0m         \u001b[0mtransport\u001b[0m \u001b[0;34m=\u001b[0m \u001b[0mself\u001b[0m\u001b[0;34m.\u001b[0m\u001b[0m_get_transport\u001b[0m\u001b[0;34m(\u001b[0m\u001b[0mclient\u001b[0m\u001b[0;34m)\u001b[0m\u001b[0;34m\u001b[0m\u001b[0;34m\u001b[0m\u001b[0m\n\u001b[1;32m    802\u001b[0m         \u001b[0;32mtry\u001b[0m\u001b[0;34m:\u001b[0m\u001b[0;34m\u001b[0m\u001b[0;34m\u001b[0m\u001b[0m\n\u001b[0;32m--> 803\u001b[0;31m             self._do_download(\n\u001b[0m\u001b[1;32m    804\u001b[0m                 \u001b[0mtransport\u001b[0m\u001b[0;34m,\u001b[0m \u001b[0mfile_obj\u001b[0m\u001b[0;34m,\u001b[0m \u001b[0mdownload_url\u001b[0m\u001b[0;34m,\u001b[0m \u001b[0mheaders\u001b[0m\u001b[0;34m,\u001b[0m \u001b[0mstart\u001b[0m\u001b[0;34m,\u001b[0m \u001b[0mend\u001b[0m\u001b[0;34m,\u001b[0m \u001b[0mraw_download\u001b[0m\u001b[0;34m\u001b[0m\u001b[0;34m\u001b[0m\u001b[0m\n\u001b[1;32m    805\u001b[0m             )\n",
      "\u001b[0;32m~/miniconda3/envs/DCM/lib/python3.8/site-packages/google/cloud/storage/blob.py\u001b[0m in \u001b[0;36m_do_download\u001b[0;34m(self, transport, file_obj, download_url, headers, start, end, raw_download)\u001b[0m\n\u001b[1;32m    725\u001b[0m                 \u001b[0mdownload_url\u001b[0m\u001b[0;34m,\u001b[0m \u001b[0mstream\u001b[0m\u001b[0;34m=\u001b[0m\u001b[0mfile_obj\u001b[0m\u001b[0;34m,\u001b[0m \u001b[0mheaders\u001b[0m\u001b[0;34m=\u001b[0m\u001b[0mheaders\u001b[0m\u001b[0;34m,\u001b[0m \u001b[0mstart\u001b[0m\u001b[0;34m=\u001b[0m\u001b[0mstart\u001b[0m\u001b[0;34m,\u001b[0m \u001b[0mend\u001b[0m\u001b[0;34m=\u001b[0m\u001b[0mend\u001b[0m\u001b[0;34m\u001b[0m\u001b[0;34m\u001b[0m\u001b[0m\n\u001b[1;32m    726\u001b[0m             )\n\u001b[0;32m--> 727\u001b[0;31m             \u001b[0mdownload\u001b[0m\u001b[0;34m.\u001b[0m\u001b[0mconsume\u001b[0m\u001b[0;34m(\u001b[0m\u001b[0mtransport\u001b[0m\u001b[0;34m)\u001b[0m\u001b[0;34m\u001b[0m\u001b[0;34m\u001b[0m\u001b[0m\n\u001b[0m\u001b[1;32m    728\u001b[0m \u001b[0;34m\u001b[0m\u001b[0m\n\u001b[1;32m    729\u001b[0m         \u001b[0;32melse\u001b[0m\u001b[0;34m:\u001b[0m\u001b[0;34m\u001b[0m\u001b[0;34m\u001b[0m\u001b[0m\n",
      "\u001b[0;32m~/miniconda3/envs/DCM/lib/python3.8/site-packages/google/resumable_media/requests/download.py\u001b[0m in \u001b[0;36mconsume\u001b[0;34m(self, transport)\u001b[0m\n\u001b[1;32m    149\u001b[0m             \u001b[0mrequest_kwargs\u001b[0m\u001b[0;34m[\u001b[0m\u001b[0;34mu\"stream\"\u001b[0m\u001b[0;34m]\u001b[0m \u001b[0;34m=\u001b[0m \u001b[0;32mTrue\u001b[0m\u001b[0;34m\u001b[0m\u001b[0;34m\u001b[0m\u001b[0m\n\u001b[1;32m    150\u001b[0m \u001b[0;34m\u001b[0m\u001b[0m\n\u001b[0;32m--> 151\u001b[0;31m         \u001b[0mresult\u001b[0m \u001b[0;34m=\u001b[0m \u001b[0m_helpers\u001b[0m\u001b[0;34m.\u001b[0m\u001b[0mhttp_request\u001b[0m\u001b[0;34m(\u001b[0m\u001b[0mtransport\u001b[0m\u001b[0;34m,\u001b[0m \u001b[0mmethod\u001b[0m\u001b[0;34m,\u001b[0m \u001b[0murl\u001b[0m\u001b[0;34m,\u001b[0m \u001b[0;34m**\u001b[0m\u001b[0mrequest_kwargs\u001b[0m\u001b[0;34m)\u001b[0m\u001b[0;34m\u001b[0m\u001b[0;34m\u001b[0m\u001b[0m\n\u001b[0m\u001b[1;32m    152\u001b[0m \u001b[0;34m\u001b[0m\u001b[0m\n\u001b[1;32m    153\u001b[0m         \u001b[0mself\u001b[0m\u001b[0;34m.\u001b[0m\u001b[0m_process_response\u001b[0m\u001b[0;34m(\u001b[0m\u001b[0mresult\u001b[0m\u001b[0;34m)\u001b[0m\u001b[0;34m\u001b[0m\u001b[0;34m\u001b[0m\u001b[0m\n",
      "\u001b[0;32m~/miniconda3/envs/DCM/lib/python3.8/site-packages/google/resumable_media/requests/_helpers.py\u001b[0m in \u001b[0;36mhttp_request\u001b[0;34m(transport, method, url, data, headers, retry_strategy, **transport_kwargs)\u001b[0m\n\u001b[1;32m    134\u001b[0m         \u001b[0mtransport\u001b[0m\u001b[0;34m.\u001b[0m\u001b[0mrequest\u001b[0m\u001b[0;34m,\u001b[0m \u001b[0mmethod\u001b[0m\u001b[0;34m,\u001b[0m \u001b[0murl\u001b[0m\u001b[0;34m,\u001b[0m \u001b[0mdata\u001b[0m\u001b[0;34m=\u001b[0m\u001b[0mdata\u001b[0m\u001b[0;34m,\u001b[0m \u001b[0mheaders\u001b[0m\u001b[0;34m=\u001b[0m\u001b[0mheaders\u001b[0m\u001b[0;34m,\u001b[0m \u001b[0;34m**\u001b[0m\u001b[0mtransport_kwargs\u001b[0m\u001b[0;34m\u001b[0m\u001b[0;34m\u001b[0m\u001b[0m\n\u001b[1;32m    135\u001b[0m     )\n\u001b[0;32m--> 136\u001b[0;31m     \u001b[0;32mreturn\u001b[0m \u001b[0m_helpers\u001b[0m\u001b[0;34m.\u001b[0m\u001b[0mwait_and_retry\u001b[0m\u001b[0;34m(\u001b[0m\u001b[0mfunc\u001b[0m\u001b[0;34m,\u001b[0m \u001b[0mRequestsMixin\u001b[0m\u001b[0;34m.\u001b[0m\u001b[0m_get_status_code\u001b[0m\u001b[0;34m,\u001b[0m \u001b[0mretry_strategy\u001b[0m\u001b[0;34m)\u001b[0m\u001b[0;34m\u001b[0m\u001b[0;34m\u001b[0m\u001b[0m\n\u001b[0m",
      "\u001b[0;32m~/miniconda3/envs/DCM/lib/python3.8/site-packages/google/resumable_media/_helpers.py\u001b[0m in \u001b[0;36mwait_and_retry\u001b[0;34m(func, get_status_code, retry_strategy)\u001b[0m\n\u001b[1;32m    148\u001b[0m         \u001b[0mobject\u001b[0m\u001b[0;34m:\u001b[0m \u001b[0mThe\u001b[0m \u001b[0;32mreturn\u001b[0m \u001b[0mvalue\u001b[0m \u001b[0mof\u001b[0m\u001b[0;31m \u001b[0m\u001b[0;31m`\u001b[0m\u001b[0;31m`\u001b[0m\u001b[0mfunc\u001b[0m\u001b[0;31m`\u001b[0m\u001b[0;31m`\u001b[0m\u001b[0;34m.\u001b[0m\u001b[0;34m\u001b[0m\u001b[0;34m\u001b[0m\u001b[0m\n\u001b[1;32m    149\u001b[0m     \"\"\"\n\u001b[0;32m--> 150\u001b[0;31m     \u001b[0mresponse\u001b[0m \u001b[0;34m=\u001b[0m \u001b[0mfunc\u001b[0m\u001b[0;34m(\u001b[0m\u001b[0;34m)\u001b[0m\u001b[0;34m\u001b[0m\u001b[0;34m\u001b[0m\u001b[0m\n\u001b[0m\u001b[1;32m    151\u001b[0m     \u001b[0;32mif\u001b[0m \u001b[0mget_status_code\u001b[0m\u001b[0;34m(\u001b[0m\u001b[0mresponse\u001b[0m\u001b[0;34m)\u001b[0m \u001b[0;32mnot\u001b[0m \u001b[0;32min\u001b[0m \u001b[0mRETRYABLE\u001b[0m\u001b[0;34m:\u001b[0m\u001b[0;34m\u001b[0m\u001b[0;34m\u001b[0m\u001b[0m\n\u001b[1;32m    152\u001b[0m         \u001b[0;32mreturn\u001b[0m \u001b[0mresponse\u001b[0m\u001b[0;34m\u001b[0m\u001b[0;34m\u001b[0m\u001b[0m\n",
      "\u001b[0;32m~/miniconda3/envs/DCM/lib/python3.8/site-packages/google/auth/transport/requests.py\u001b[0m in \u001b[0;36mrequest\u001b[0;34m(self, method, url, data, headers, max_allowed_time, timeout, **kwargs)\u001b[0m\n\u001b[1;32m    480\u001b[0m \u001b[0;34m\u001b[0m\u001b[0m\n\u001b[1;32m    481\u001b[0m             \u001b[0;32mwith\u001b[0m \u001b[0mTimeoutGuard\u001b[0m\u001b[0;34m(\u001b[0m\u001b[0mremaining_time\u001b[0m\u001b[0;34m)\u001b[0m \u001b[0;32mas\u001b[0m \u001b[0mguard\u001b[0m\u001b[0;34m:\u001b[0m\u001b[0;34m\u001b[0m\u001b[0;34m\u001b[0m\u001b[0m\n\u001b[0;32m--> 482\u001b[0;31m                 \u001b[0mself\u001b[0m\u001b[0;34m.\u001b[0m\u001b[0mcredentials\u001b[0m\u001b[0;34m.\u001b[0m\u001b[0mrefresh\u001b[0m\u001b[0;34m(\u001b[0m\u001b[0mauth_request\u001b[0m\u001b[0;34m)\u001b[0m\u001b[0;34m\u001b[0m\u001b[0;34m\u001b[0m\u001b[0m\n\u001b[0m\u001b[1;32m    483\u001b[0m             \u001b[0mremaining_time\u001b[0m \u001b[0;34m=\u001b[0m \u001b[0mguard\u001b[0m\u001b[0;34m.\u001b[0m\u001b[0mremaining_timeout\u001b[0m\u001b[0;34m\u001b[0m\u001b[0;34m\u001b[0m\u001b[0m\n\u001b[1;32m    484\u001b[0m \u001b[0;34m\u001b[0m\u001b[0m\n",
      "\u001b[0;32m~/miniconda3/envs/DCM/lib/python3.8/site-packages/google/oauth2/credentials.py\u001b[0m in \u001b[0;36mrefresh\u001b[0;34m(self, request)\u001b[0m\n\u001b[1;32m    169\u001b[0m             \u001b[0;32mor\u001b[0m \u001b[0mself\u001b[0m\u001b[0;34m.\u001b[0m\u001b[0m_client_secret\u001b[0m \u001b[0;32mis\u001b[0m \u001b[0;32mNone\u001b[0m\u001b[0;34m\u001b[0m\u001b[0;34m\u001b[0m\u001b[0m\n\u001b[1;32m    170\u001b[0m         ):\n\u001b[0;32m--> 171\u001b[0;31m             raise exceptions.RefreshError(\n\u001b[0m\u001b[1;32m    172\u001b[0m                 \u001b[0;34m\"The credentials do not contain the necessary fields need to \"\u001b[0m\u001b[0;34m\u001b[0m\u001b[0;34m\u001b[0m\u001b[0m\n\u001b[1;32m    173\u001b[0m                 \u001b[0;34m\"refresh the access token. You must specify refresh_token, \"\u001b[0m\u001b[0;34m\u001b[0m\u001b[0;34m\u001b[0m\u001b[0m\n",
      "\u001b[0;31mRefreshError\u001b[0m: The credentials do not contain the necessary fields need to refresh the access token. You must specify refresh_token, token_uri, client_id, and client_secret."
     ]
    }
   ],
   "source": [
    "bb.download_to_file('/tmp/a.dcm')"
   ]
  },
  {
   "cell_type": "code",
   "execution_count": 93,
   "metadata": {},
   "outputs": [
    {
     "data": {
      "text/plain": [
       "'dicom/61.7.27882698591755458810289506106138341571/61.7.140850485026854845569976770842695917955/61.7.100009415753864105300316343655028182404.dcm'"
      ]
     },
     "execution_count": 93,
     "metadata": {},
     "output_type": "execute_result"
    }
   ],
   "source": [
    "bb.name"
   ]
  },
  {
   "cell_type": "code",
   "execution_count": 104,
   "metadata": {},
   "outputs": [
    {
     "ename": "TypeError",
     "evalue": "refresh() missing 1 required positional argument: 'request'",
     "output_type": "error",
     "traceback": [
      "\u001b[0;31m---------------------------------------------------------------------------\u001b[0m",
      "\u001b[0;31mTypeError\u001b[0m                                 Traceback (most recent call last)",
      "\u001b[0;32m<ipython-input-104-c31254cfcb31>\u001b[0m in \u001b[0;36m<module>\u001b[0;34m\u001b[0m\n\u001b[0;32m----> 1\u001b[0;31m \u001b[0mcredentials\u001b[0m\u001b[0;34m.\u001b[0m\u001b[0mrefresh\u001b[0m\u001b[0;34m(\u001b[0m\u001b[0;34m)\u001b[0m\u001b[0;34m\u001b[0m\u001b[0;34m\u001b[0m\u001b[0m\n\u001b[0m",
      "\u001b[0;31mTypeError\u001b[0m: refresh() missing 1 required positional argument: 'request'"
     ]
    }
   ],
   "source": [
    "credentials.refresh()\n"
   ]
  },
  {
   "cell_type": "code",
   "execution_count": null,
   "metadata": {},
   "outputs": [],
   "source": []
  }
 ],
 "metadata": {
  "kernelspec": {
   "display_name": "Python 3",
   "language": "python",
   "name": "python3"
  },
  "language_info": {
   "codemirror_mode": {
    "name": "ipython",
    "version": 3
   },
   "file_extension": ".py",
   "mimetype": "text/x-python",
   "name": "python",
   "nbconvert_exporter": "python",
   "pygments_lexer": "ipython3",
   "version": "3.8.2"
  }
 },
 "nbformat": 4,
 "nbformat_minor": 4
}
