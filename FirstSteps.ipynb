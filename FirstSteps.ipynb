{
 "cells": [
  {
   "cell_type": "code",
   "execution_count": 1,
   "metadata": {},
   "outputs": [],
   "source": [
    "# note: we need to be authenticated via `gcloud auth login`\n",
    "PROJECT = 'idc-lnq-000'"
   ]
  },
  {
   "cell_type": "markdown",
   "metadata": {},
   "source": [
    "# CLI access"
   ]
  },
  {
   "cell_type": "code",
   "execution_count": 2,
   "metadata": {},
   "outputs": [],
   "source": [
    "import os, time"
   ]
  },
  {
   "cell_type": "code",
   "execution_count": 3,
   "metadata": {},
   "outputs": [
    {
     "name": "stdout",
     "output_type": "stream",
     "text": [
      "1.0035598278045654 seconds\n"
     ]
    }
   ],
   "source": [
    "t0 = time.time()\n",
    "datasets = os.popen('gcloud beta healthcare datasets list --project chc-tcia').read().split()[3::3]\n",
    "print(time.time() - t0, 'seconds')"
   ]
  },
  {
   "cell_type": "code",
   "execution_count": 4,
   "metadata": {},
   "outputs": [
    {
     "name": "stdout",
     "output_type": "stream",
     "text": [
      "4d-lung 183043903814\n",
      "94.92283892631531 seconds\n"
     ]
    }
   ],
   "source": [
    "t0 = time.time()\n",
    "for d in datasets[0:1]:\n",
    "    size = os.popen('gsutil -u '+PROJECT+' du -s gs://gcs-public-data--healthcare-tcia-'+d).read().split()[0]\n",
    "    print(d, size)\n",
    "# note: takes a long time\n",
    "print(time.time() - t0, 'seconds')"
   ]
  },
  {
   "cell_type": "code",
   "execution_count": null,
   "metadata": {},
   "outputs": [],
   "source": []
  },
  {
   "cell_type": "markdown",
   "metadata": {},
   "source": [
    "# Python access"
   ]
  },
  {
   "cell_type": "code",
   "execution_count": 5,
   "metadata": {},
   "outputs": [],
   "source": [
    "import time\n",
    "from google.cloud import storage\n",
    "import google.oauth2.credentials"
   ]
  },
  {
   "cell_type": "code",
   "execution_count": 6,
   "metadata": {},
   "outputs": [],
   "source": [
    "token = os.popen('gcloud auth print-access-token').read().strip('\\n') # TODO: better way?\n",
    "credentials = google.oauth2.credentials.Credentials(token)"
   ]
  },
  {
   "cell_type": "code",
   "execution_count": 7,
   "metadata": {},
   "outputs": [],
   "source": [
    "c = storage.Client(project='chc-tcia', credentials=credentials)"
   ]
  },
  {
   "cell_type": "code",
   "execution_count": 8,
   "metadata": {},
   "outputs": [
    {
     "name": "stdout",
     "output_type": "stream",
     "text": [
      "0.00017523765563964844 seconds\n"
     ]
    }
   ],
   "source": [
    "t0 = time.time()\n",
    "datasets = c.list_buckets()\n",
    "print(time.time() - t0, 'seconds')"
   ]
  },
  {
   "cell_type": "code",
   "execution_count": 9,
   "metadata": {},
   "outputs": [
    {
     "name": "stdout",
     "output_type": "stream",
     "text": [
      "<Bucket: gcs-public-data--healthcare-tcia-4d-lung> 183043903814\n",
      "62.25188422203064 seconds\n"
     ]
    }
   ],
   "source": [
    "t0 = time.time()\n",
    "for d in list(datasets)[0:1]:\n",
    "    bucket = c.bucket(d.name, user_project=PROJECT)\n",
    "    size = 0\n",
    "    for b in bucket.list_blobs():\n",
    "        size += b.size\n",
    "    print(d, size)\n",
    "print(time.time() - t0, 'seconds')"
   ]
  },
  {
   "cell_type": "code",
   "execution_count": null,
   "metadata": {},
   "outputs": [],
   "source": []
  }
 ],
 "metadata": {
  "kernelspec": {
   "display_name": "Python 3",
   "language": "python",
   "name": "python3"
  },
  "language_info": {
   "codemirror_mode": {
    "name": "ipython",
    "version": 3
   },
   "file_extension": ".py",
   "mimetype": "text/x-python",
   "name": "python",
   "nbconvert_exporter": "python",
   "pygments_lexer": "ipython3",
   "version": "3.8.2"
  }
 },
 "nbformat": 4,
 "nbformat_minor": 4
}
