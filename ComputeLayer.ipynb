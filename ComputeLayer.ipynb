{
 "cells": [
  {
   "cell_type": "code",
   "execution_count": 1,
   "metadata": {},
   "outputs": [
    {
     "name": "stdout",
     "output_type": "stream",
     "text": [
      "Populating the interactive namespace from numpy and matplotlib\n"
     ]
    }
   ],
   "source": [
    "%pylab inline\n",
    "%load_ext autoreload\n",
    "%autoreload 2"
   ]
  },
  {
   "cell_type": "code",
   "execution_count": 2,
   "metadata": {},
   "outputs": [],
   "source": [
    "import os,time\n",
    "import DICOMPUTE as D"
   ]
  },
  {
   "cell_type": "code",
   "execution_count": 3,
   "metadata": {},
   "outputs": [
    {
     "name": "stdout",
     "output_type": "stream",
     "text": [
      "Search completed after 1.1533262729644775 seconds.\n"
     ]
    }
   ],
   "source": [
    "bucket = D.GC.get_bucket('ct-lymph-nodes')"
   ]
  },
  {
   "cell_type": "code",
   "execution_count": 4,
   "metadata": {},
   "outputs": [
    {
     "name": "stdout",
     "output_type": "stream",
     "text": [
      "Getting size completed after 13.353251218795776 seconds.\n",
      "57794974010\n"
     ]
    }
   ],
   "source": [
    "print(D.GC.get_bucket_size(bucket))"
   ]
  },
  {
   "cell_type": "code",
   "execution_count": 5,
   "metadata": {},
   "outputs": [
    {
     "name": "stdout",
     "output_type": "stream",
     "text": [
      "Listing directory completed after 2.678128242492676 seconds.\n"
     ]
    }
   ],
   "source": [
    "patients = sorted(D.GC.lsdir(bucket, 'dicom/'))"
   ]
  },
  {
   "cell_type": "code",
   "execution_count": 6,
   "metadata": {},
   "outputs": [
    {
     "data": {
      "text/plain": [
       "(176, 'dicom/61.7.102432584850582937613178565576727689438/')"
      ]
     },
     "execution_count": 6,
     "metadata": {},
     "output_type": "execute_result"
    }
   ],
   "source": [
    "len(patients), patients[0]"
   ]
  },
  {
   "cell_type": "code",
   "execution_count": 7,
   "metadata": {},
   "outputs": [
    {
     "name": "stdout",
     "output_type": "stream",
     "text": [
      "Listing directory completed after 1.0905065536499023 seconds.\n"
     ]
    }
   ],
   "source": [
    "studies = sorted(D.GC.lsdir(bucket, patients[0]))"
   ]
  },
  {
   "cell_type": "code",
   "execution_count": 8,
   "metadata": {},
   "outputs": [
    {
     "data": {
      "text/plain": [
       "(1,\n",
       " 'dicom/61.7.102432584850582937613178565576727689438/61.7.236153238415899774813399005901015124149/')"
      ]
     },
     "execution_count": 8,
     "metadata": {},
     "output_type": "execute_result"
    }
   ],
   "source": [
    "len(studies), studies[0]"
   ]
  },
  {
   "cell_type": "code",
   "execution_count": 9,
   "metadata": {},
   "outputs": [
    {
     "name": "stdout",
     "output_type": "stream",
     "text": [
      "Download completed after 1.1011064052581787 seconds.\n"
     ]
    }
   ],
   "source": [
    "images = D.GC.download(bucket, studies[0], outdir='/mnt/data/ct-lymph-nodes/')"
   ]
  },
  {
   "cell_type": "code",
   "execution_count": 10,
   "metadata": {},
   "outputs": [
    {
     "data": {
      "text/plain": [
       "'/mnt/data/ct-lymph-nodes/dicom/61.7.102432584850582937613178565576727689438/61.7.236153238415899774813399005901015124149/61.7.100084279359689996916137347486987360356.dcm'"
      ]
     },
     "execution_count": 10,
     "metadata": {},
     "output_type": "execute_result"
    }
   ],
   "source": [
    "images[0]"
   ]
  },
  {
   "cell_type": "code",
   "execution_count": 13,
   "metadata": {},
   "outputs": [
    {
     "name": "stdout",
     "output_type": "stream",
     "text": [
      "done after 0.0005185604095458984\n"
     ]
    }
   ],
   "source": [
    "#\n",
    "# dcm2niix\n",
    "#\n",
    "t0 = time.time()\n",
    "dcm_dir = os.path.dirname(images[0])\n",
    "nii_dir = dcm_dir.replace('dicom', 'nii')\n",
    "nii_file = os.path.basename(dcm_dir)\n",
    "nii_dir = os.path.dirname(nii_dir)\n",
    "os.makedirs(nii_dir, exist_ok=True)\n",
    "cmd = 'dcm2niix -f ' + nii_file + ' -o '+ nii_dir + ' ' + dcm_dir + '/*.dcm'\n",
    "nii_path = os.path.join(nii_dir,nii_file+'.nii')\n",
    "if not os.path.exists(nii_path):\n",
    "    stdout = os.popen(cmd).read()\n",
    "print ('done after', time.time()-t0)"
   ]
  },
  {
   "cell_type": "code",
   "execution_count": 16,
   "metadata": {},
   "outputs": [
    {
     "name": "stdout",
     "output_type": "stream",
     "text": [
      "done after 499.89840292930603\n"
     ]
    }
   ],
   "source": [
    "#\n",
    "# 3D SIFT\n",
    "#\n",
    "t0 = time.time()\n",
    "featExtractPath = 'featExtract1.6/featExtract.ubu'\n",
    "feature_file = nii_path.replace('.nii', '.sift')\n",
    "cmd = featExtractPath + ' ' + nii_path + ' ' + feature_file\n",
    "if not os.path.exists(feature_file):\n",
    "    stdout = os.popen(cmd).read()\n",
    "print('done after', time.time()-t0)"
   ]
  },
  {
   "cell_type": "code",
   "execution_count": null,
   "metadata": {},
   "outputs": [],
   "source": []
  }
 ],
 "metadata": {
  "kernelspec": {
   "display_name": "Python 3",
   "language": "python",
   "name": "python3"
  },
  "language_info": {
   "codemirror_mode": {
    "name": "ipython",
    "version": 3
   },
   "file_extension": ".py",
   "mimetype": "text/x-python",
   "name": "python",
   "nbconvert_exporter": "python",
   "pygments_lexer": "ipython3",
   "version": "3.8.2"
  }
 },
 "nbformat": 4,
 "nbformat_minor": 4
}
